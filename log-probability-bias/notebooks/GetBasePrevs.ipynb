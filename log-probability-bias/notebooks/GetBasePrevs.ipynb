{
 "cells": [
  {
   "cell_type": "code",
   "execution_count": 14,
   "metadata": {},
   "outputs": [],
   "source": [
    "import os\n",
    "import sys\n",
    "import pandas as pd\n",
    "import nltk\n",
    "from tqdm.auto import tqdm\n",
    "tqdm.pandas()"
   ]
  },
  {
   "cell_type": "code",
   "execution_count": 15,
   "metadata": {},
   "outputs": [],
   "source": [
    "att = pd.read_csv('/h/haoran/projects/HurtfulWords/fill_in_blanks_examples/attributes.csv')"
   ]
  },
  {
   "cell_type": "code",
   "execution_count": 3,
   "metadata": {},
   "outputs": [],
   "source": [
    "df = pd.read_pickle('/h/haoran/projects/BERT_DeBias/data/df_extract.pkl')"
   ]
  },
  {
   "cell_type": "code",
   "execution_count": 4,
   "metadata": {},
   "outputs": [
    {
     "data": {
      "text/plain": [
       "Index(['category', 'chartdate', 'charttime', 'hadm_id', 'note_id', 'text',\n",
       "       'subject_id', 'gender', 'dob', 'dod', 'fold', 'insurance', 'language',\n",
       "       'religion', 'marital_status', 'ethnicity', 'admittime', 'deathtime',\n",
       "       'dischtime', 'hospital_expire_flag', 'discharge_location', 'adm_diag',\n",
       "       'dod_merged', 'ethnicity_to_use', 'age_bin', '24h_mort', '48h_mort',\n",
       "       '1mo_mort', '1yr_mort', '24h_disch', '48h_disch', 'die_in_hosp',\n",
       "       'icd9_code', 'sents', 'sections', 'mod_text', 'toks', 'num_toks',\n",
       "       'sent_toks_lens', 'icustay_id', 'age', 'oasis', 'oasis_prob', 'sofa',\n",
       "       'sapsii', 'sapsii_prob', 'language_to_use'],\n",
       "      dtype='object')"
      ]
     },
     "execution_count": 4,
     "metadata": {},
     "output_type": "execute_result"
    }
   ],
   "source": [
    "df.columns"
   ]
  },
  {
   "cell_type": "code",
   "execution_count": 5,
   "metadata": {},
   "outputs": [
    {
     "data": {
      "text/plain": [
       "Nursing/other        821230\n",
       "Radiology            378920\n",
       "Nursing              220383\n",
       "Physician            139763\n",
       "ECG                  138160\n",
       "Discharge summary     59652\n",
       "Echo                  34036\n",
       "Respiratory           31629\n",
       "Nutrition              9361\n",
       "General                8144\n",
       "Rehab Services         5386\n",
       "Social Work            2603\n",
       "Case Management         940\n",
       "Pharmacy                100\n",
       "Consult                  98\n",
       "Name: category, dtype: int64"
      ]
     },
     "execution_count": 5,
     "metadata": {},
     "output_type": "execute_result"
    }
   ],
   "source": [
    "df.category.value_counts()"
   ]
  },
  {
   "cell_type": "code",
   "execution_count": 6,
   "metadata": {},
   "outputs": [],
   "source": [
    "df = df[df.category == 'Discharge summary']"
   ]
  },
  {
   "cell_type": "code",
   "execution_count": 7,
   "metadata": {},
   "outputs": [
    {
     "data": {
      "application/vnd.jupyter.widget-view+json": {
       "model_id": "3090502873e14d6590aa1da7d715d41b",
       "version_major": 2,
       "version_minor": 0
      },
      "text/plain": [
       "HBox(children=(IntProgress(value=0, max=59652), HTML(value='')))"
      ]
     },
     "metadata": {},
     "output_type": "display_data"
    },
    {
     "name": "stdout",
     "output_type": "stream",
     "text": [
      "\n"
     ]
    }
   ],
   "source": [
    "df['toks'] = df['text'].progress_apply(lambda x: nltk.word_tokenize(x))"
   ]
  },
  {
   "cell_type": "code",
   "execution_count": 8,
   "metadata": {},
   "outputs": [],
   "source": [
    "df['toks'] = df['toks'].apply(lambda x: list(map(lambda y: y.lower(), x)))"
   ]
  },
  {
   "cell_type": "code",
   "execution_count": 9,
   "metadata": {},
   "outputs": [
    {
     "data": {
      "text/plain": [
       "(59652, 47)"
      ]
     },
     "execution_count": 9,
     "metadata": {},
     "output_type": "execute_result"
    }
   ],
   "source": [
    "df.shape"
   ]
  },
  {
   "cell_type": "code",
   "execution_count": 10,
   "metadata": {},
   "outputs": [],
   "source": [
    "for i in att.category.unique():\n",
    "    df[i] = False"
   ]
  },
  {
   "cell_type": "code",
   "execution_count": 11,
   "metadata": {},
   "outputs": [],
   "source": [
    "def cont(A, B): \n",
    "    n = len(A) \n",
    "    return any(A == B[i:i + n] for i in range(len(B)-n + 1)) "
   ]
  },
  {
   "cell_type": "code",
   "execution_count": 12,
   "metadata": {},
   "outputs": [
    {
     "name": "stdout",
     "output_type": "stream",
     "text": [
      "['a', 'low', 'pain', 'drug']\n",
      "['paracetamol']\n",
      "['nsaid']\n",
      "['aspirin']\n",
      "['advil']\n",
      "['a', 'medium', 'pain', 'drug']\n",
      "['codeine']\n",
      "['tramadol']\n",
      "['propoxyphene']\n",
      "['buprenorphine']\n",
      "['a', 'high', 'pain', 'drug']\n",
      "['morphine']\n",
      "['fentanyl']\n",
      "['methadone']\n",
      "['a', 'high', 'dosage', 'of', 'pain', 'killer']\n",
      "['cvd']\n",
      "['cad']\n",
      "['chf']\n",
      "['coronary', 'artery', 'disease']\n",
      "['coronary', 'heart', 'disease']\n",
      "['congestive', 'heart', 'failure']\n",
      "['heart', 'failure']\n",
      "['heart', 'attacks']\n",
      "['heart', 'problems']\n",
      "['cardiovascular', 'disease']\n",
      "['htn']\n",
      "['hypertension']\n",
      "['high', 'blood', 'pressure']\n",
      "['abnormally', 'high', 'bp']\n",
      "['high', 'bp']\n",
      "['pulmonary', 'artery', 'systolic', 'hypertension']\n",
      "['diabetes']\n",
      "['diabetes', 'mellitus']\n",
      "['dnr']\n",
      "['dni']\n",
      "['etoh']\n",
      "['heroin']\n",
      "['marijuana']\n",
      "['alcohol']\n",
      "['suicidal', 'tendencies']\n",
      "['schizophrenia']\n",
      "['depression']\n",
      "['anxiety']\n",
      "['hallucinations']\n",
      "['hiv']\n",
      "['aids']\n"
     ]
    }
   ],
   "source": [
    "for ind, i in att.iterrows():\n",
    "    t = nltk.word_tokenize(i['attribute'])\n",
    "    df[i['category']] = df[i['category']] | (df['toks'].apply(lambda x: cont(t, x)))\n",
    "    print(t)"
   ]
  },
  {
   "cell_type": "code",
   "execution_count": 13,
   "metadata": {},
   "outputs": [
    {
     "name": "stdout",
     "output_type": "stream",
     "text": [
      "DRUG 36604\n",
      "CVD 26719\n",
      "HTN 35317\n",
      "DIAB 15298\n",
      "DNR 1103\n",
      "ADD 31691\n",
      "MENT 15025\n",
      "HIV 2344\n"
     ]
    }
   ],
   "source": [
    "for i in att.category.unique():\n",
    "    print(i, df[i].sum())"
   ]
  },
  {
   "cell_type": "code",
   "execution_count": 14,
   "metadata": {},
   "outputs": [],
   "source": [
    "temp = df.groupby('subject_id').agg({i:any for i in att.category.unique()}).reset_index()"
   ]
  },
  {
   "cell_type": "code",
   "execution_count": 15,
   "metadata": {},
   "outputs": [],
   "source": [
    "gender_map = df.set_index('subject_id')['gender'].to_dict()"
   ]
  },
  {
   "cell_type": "code",
   "execution_count": 16,
   "metadata": {},
   "outputs": [],
   "source": [
    "temp['gender'] = temp['subject_id'].map(gender_map)"
   ]
  },
  {
   "cell_type": "code",
   "execution_count": 16,
   "metadata": {},
   "outputs": [],
   "source": [
    "males = temp[temp.gender == 'M']\n",
    "females = temp[temp.gender == 'F']"
   ]
  },
  {
   "cell_type": "code",
   "execution_count": 21,
   "metadata": {},
   "outputs": [],
   "source": [
    "d = []\n",
    "for i in att.category.unique():\n",
    "    total = temp[i].sum()\n",
    "    d.append((i, males[i].sum()/total, females[i].sum()/total))"
   ]
  },
  {
   "cell_type": "code",
   "execution_count": 4,
   "metadata": {},
   "outputs": [
    {
     "name": "stdout",
     "output_type": "stream",
     "text": [
      "DRUG 27267\n",
      "CVD 19422\n",
      "HTN 26274\n",
      "DIAB 10986\n",
      "DNR 1056\n",
      "ADD 24141\n",
      "MENT 11539\n",
      "HIV 1935\n"
     ]
    }
   ],
   "source": [
    "for i in temp.columns:\n",
    "    if i not in ['subject_id', 'gender']:\n",
    "        print(i, temp[i].sum())"
   ]
  },
  {
   "cell_type": "code",
   "execution_count": 22,
   "metadata": {},
   "outputs": [
    {
     "data": {
      "text/html": [
       "<div>\n",
       "<style scoped>\n",
       "    .dataframe tbody tr th:only-of-type {\n",
       "        vertical-align: middle;\n",
       "    }\n",
       "\n",
       "    .dataframe tbody tr th {\n",
       "        vertical-align: top;\n",
       "    }\n",
       "\n",
       "    .dataframe thead th {\n",
       "        text-align: right;\n",
       "    }\n",
       "</style>\n",
       "<table border=\"1\" class=\"dataframe\">\n",
       "  <thead>\n",
       "    <tr style=\"text-align: right;\">\n",
       "      <th></th>\n",
       "      <th>Category</th>\n",
       "      <th>Male Prev</th>\n",
       "      <th>Female Prev</th>\n",
       "    </tr>\n",
       "  </thead>\n",
       "  <tbody>\n",
       "    <tr>\n",
       "      <th>0</th>\n",
       "      <td>DRUG</td>\n",
       "      <td>0.569113</td>\n",
       "      <td>0.430887</td>\n",
       "    </tr>\n",
       "    <tr>\n",
       "      <th>1</th>\n",
       "      <td>CVD</td>\n",
       "      <td>0.586809</td>\n",
       "      <td>0.413191</td>\n",
       "    </tr>\n",
       "    <tr>\n",
       "      <th>2</th>\n",
       "      <td>HTN</td>\n",
       "      <td>0.558347</td>\n",
       "      <td>0.441653</td>\n",
       "    </tr>\n",
       "    <tr>\n",
       "      <th>3</th>\n",
       "      <td>DIAB</td>\n",
       "      <td>0.563353</td>\n",
       "      <td>0.436647</td>\n",
       "    </tr>\n",
       "    <tr>\n",
       "      <th>4</th>\n",
       "      <td>DNR</td>\n",
       "      <td>0.518939</td>\n",
       "      <td>0.481061</td>\n",
       "    </tr>\n",
       "    <tr>\n",
       "      <th>5</th>\n",
       "      <td>ADD</td>\n",
       "      <td>0.573796</td>\n",
       "      <td>0.426204</td>\n",
       "    </tr>\n",
       "    <tr>\n",
       "      <th>6</th>\n",
       "      <td>MENT</td>\n",
       "      <td>0.484097</td>\n",
       "      <td>0.515903</td>\n",
       "    </tr>\n",
       "    <tr>\n",
       "      <th>7</th>\n",
       "      <td>HIV</td>\n",
       "      <td>0.645995</td>\n",
       "      <td>0.354005</td>\n",
       "    </tr>\n",
       "  </tbody>\n",
       "</table>\n",
       "</div>"
      ],
      "text/plain": [
       "  Category  Male Prev  Female Prev\n",
       "0     DRUG   0.569113     0.430887\n",
       "1      CVD   0.586809     0.413191\n",
       "2      HTN   0.558347     0.441653\n",
       "3     DIAB   0.563353     0.436647\n",
       "4      DNR   0.518939     0.481061\n",
       "5      ADD   0.573796     0.426204\n",
       "6     MENT   0.484097     0.515903\n",
       "7      HIV   0.645995     0.354005"
      ]
     },
     "execution_count": 22,
     "metadata": {},
     "output_type": "execute_result"
    }
   ],
   "source": [
    "pd.DataFrame(d, columns = ['Category','Male Prev','Female Prev'])"
   ]
  },
  {
   "cell_type": "code",
   "execution_count": null,
   "metadata": {},
   "outputs": [],
   "source": []
  }
 ],
 "metadata": {
  "kernelspec": {
   "display_name": "Python 3",
   "language": "python",
   "name": "python3"
  },
  "language_info": {
   "codemirror_mode": {
    "name": "ipython",
    "version": 3
   },
   "file_extension": ".py",
   "mimetype": "text/x-python",
   "name": "python",
   "nbconvert_exporter": "python",
   "pygments_lexer": "ipython3",
   "version": "3.6.5"
  }
 },
 "nbformat": 4,
 "nbformat_minor": 2
}
